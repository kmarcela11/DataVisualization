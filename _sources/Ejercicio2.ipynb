{
 "cells": [
  {
   "cell_type": "markdown",
   "metadata": {},
   "source": [
    "# **Ejercicio 2**"
   ]
  },
  {
   "cell_type": "markdown",
   "metadata": {},
   "source": [
    "## **Librerias necesarias**"
   ]
  },
  {
   "cell_type": "code",
   "execution_count": 12,
   "metadata": {},
   "outputs": [],
   "source": [
    "import pandas as pd\n",
    "import seaborn as sns\n",
    "import matplotlib.pyplot as plt\n",
    "from numpy import mean\n",
    "import warnings\n",
    "warnings.filterwarnings('ignore')\n",
    "import numpy as np\n"
   ]
  },
  {
   "cell_type": "markdown",
   "metadata": {},
   "source": [
    "Nota: En este ejercicio se usará el mismo DataFrame del ejercicio anterior. Sin embargo, para efectos de práctica lo llamaremos nuevamente."
   ]
  },
  {
   "cell_type": "code",
   "execution_count": 13,
   "metadata": {},
   "outputs": [
    {
     "data": {
      "text/html": [
       "<div>\n",
       "<style scoped>\n",
       "    .dataframe tbody tr th:only-of-type {\n",
       "        vertical-align: middle;\n",
       "    }\n",
       "\n",
       "    .dataframe tbody tr th {\n",
       "        vertical-align: top;\n",
       "    }\n",
       "\n",
       "    .dataframe thead th {\n",
       "        text-align: right;\n",
       "    }\n",
       "</style>\n",
       "<table border=\"1\" class=\"dataframe\">\n",
       "  <thead>\n",
       "    <tr style=\"text-align: right;\">\n",
       "      <th></th>\n",
       "      <th>ID</th>\n",
       "      <th>Name</th>\n",
       "      <th>Sex</th>\n",
       "      <th>Age</th>\n",
       "      <th>Height</th>\n",
       "      <th>Weight</th>\n",
       "      <th>Team</th>\n",
       "      <th>NOC</th>\n",
       "      <th>Games</th>\n",
       "      <th>Year</th>\n",
       "      <th>Season</th>\n",
       "      <th>City</th>\n",
       "      <th>Sport</th>\n",
       "      <th>Event</th>\n",
       "      <th>Medal</th>\n",
       "    </tr>\n",
       "  </thead>\n",
       "  <tbody>\n",
       "    <tr>\n",
       "      <th>0</th>\n",
       "      <td>1</td>\n",
       "      <td>A Dijiang</td>\n",
       "      <td>M</td>\n",
       "      <td>24.0</td>\n",
       "      <td>180.0</td>\n",
       "      <td>80.0</td>\n",
       "      <td>China</td>\n",
       "      <td>CHN</td>\n",
       "      <td>1992 Summer</td>\n",
       "      <td>1992</td>\n",
       "      <td>Summer</td>\n",
       "      <td>Barcelona</td>\n",
       "      <td>Basketball</td>\n",
       "      <td>Basketball Men's Basketball</td>\n",
       "      <td>NaN</td>\n",
       "    </tr>\n",
       "    <tr>\n",
       "      <th>1</th>\n",
       "      <td>2</td>\n",
       "      <td>A Lamusi</td>\n",
       "      <td>M</td>\n",
       "      <td>23.0</td>\n",
       "      <td>170.0</td>\n",
       "      <td>60.0</td>\n",
       "      <td>China</td>\n",
       "      <td>CHN</td>\n",
       "      <td>2012 Summer</td>\n",
       "      <td>2012</td>\n",
       "      <td>Summer</td>\n",
       "      <td>London</td>\n",
       "      <td>Judo</td>\n",
       "      <td>Judo Men's Extra-Lightweight</td>\n",
       "      <td>NaN</td>\n",
       "    </tr>\n",
       "    <tr>\n",
       "      <th>2</th>\n",
       "      <td>3</td>\n",
       "      <td>Gunnar Nielsen Aaby</td>\n",
       "      <td>M</td>\n",
       "      <td>24.0</td>\n",
       "      <td>NaN</td>\n",
       "      <td>NaN</td>\n",
       "      <td>Denmark</td>\n",
       "      <td>DEN</td>\n",
       "      <td>1920 Summer</td>\n",
       "      <td>1920</td>\n",
       "      <td>Summer</td>\n",
       "      <td>Antwerpen</td>\n",
       "      <td>Football</td>\n",
       "      <td>Football Men's Football</td>\n",
       "      <td>NaN</td>\n",
       "    </tr>\n",
       "    <tr>\n",
       "      <th>3</th>\n",
       "      <td>4</td>\n",
       "      <td>Edgar Lindenau Aabye</td>\n",
       "      <td>M</td>\n",
       "      <td>34.0</td>\n",
       "      <td>NaN</td>\n",
       "      <td>NaN</td>\n",
       "      <td>Denmark/Sweden</td>\n",
       "      <td>DEN</td>\n",
       "      <td>1900 Summer</td>\n",
       "      <td>1900</td>\n",
       "      <td>Summer</td>\n",
       "      <td>Paris</td>\n",
       "      <td>Tug-Of-War</td>\n",
       "      <td>Tug-Of-War Men's Tug-Of-War</td>\n",
       "      <td>Gold</td>\n",
       "    </tr>\n",
       "    <tr>\n",
       "      <th>4</th>\n",
       "      <td>5</td>\n",
       "      <td>Christine Jacoba Aaftink</td>\n",
       "      <td>F</td>\n",
       "      <td>21.0</td>\n",
       "      <td>185.0</td>\n",
       "      <td>82.0</td>\n",
       "      <td>Netherlands</td>\n",
       "      <td>NED</td>\n",
       "      <td>1988 Winter</td>\n",
       "      <td>1988</td>\n",
       "      <td>Winter</td>\n",
       "      <td>Calgary</td>\n",
       "      <td>Speed Skating</td>\n",
       "      <td>Speed Skating Women's 500 metres</td>\n",
       "      <td>NaN</td>\n",
       "    </tr>\n",
       "  </tbody>\n",
       "</table>\n",
       "</div>"
      ],
      "text/plain": [
       "   ID                      Name Sex   Age  Height  Weight            Team  \\\n",
       "0   1                 A Dijiang   M  24.0   180.0    80.0           China   \n",
       "1   2                  A Lamusi   M  23.0   170.0    60.0           China   \n",
       "2   3       Gunnar Nielsen Aaby   M  24.0     NaN     NaN         Denmark   \n",
       "3   4      Edgar Lindenau Aabye   M  34.0     NaN     NaN  Denmark/Sweden   \n",
       "4   5  Christine Jacoba Aaftink   F  21.0   185.0    82.0     Netherlands   \n",
       "\n",
       "   NOC        Games  Year  Season       City          Sport  \\\n",
       "0  CHN  1992 Summer  1992  Summer  Barcelona     Basketball   \n",
       "1  CHN  2012 Summer  2012  Summer     London           Judo   \n",
       "2  DEN  1920 Summer  1920  Summer  Antwerpen       Football   \n",
       "3  DEN  1900 Summer  1900  Summer      Paris     Tug-Of-War   \n",
       "4  NED  1988 Winter  1988  Winter    Calgary  Speed Skating   \n",
       "\n",
       "                              Event Medal  \n",
       "0       Basketball Men's Basketball   NaN  \n",
       "1      Judo Men's Extra-Lightweight   NaN  \n",
       "2           Football Men's Football   NaN  \n",
       "3       Tug-Of-War Men's Tug-Of-War  Gold  \n",
       "4  Speed Skating Women's 500 metres   NaN  "
      ]
     },
     "execution_count": 13,
     "metadata": {},
     "output_type": "execute_result"
    }
   ],
   "source": [
    "olimpicos_url = \"https://raw.githubusercontent.com/lihkirun/AppliedStatisticMS/main/DataVisualizationRPython/Lectures/Python/PythonDataSets/athlete_events.csv\"\n",
    "df_olimpicos = pd.read_csv(olimpicos_url) \n",
    "df_olimpicos.head()"
   ]
  },
  {
   "cell_type": "markdown",
   "metadata": {},
   "source": [
    "## **Inciso 1**\n",
    "**Crear un gráfico utilizando una técnica de visualización adecuada que presente de la mejor manera posible el patrón global de las características de height y weight de los ganadores de medallas de 2016 de los cinco deportes.**"
   ]
  },
  {
   "cell_type": "markdown",
   "metadata": {},
   "source": [
    "Para solucionar este inciso el primer paso es filtrar el DataFrame para incluir únicamente las filas correspondientes a los ganadores de medallas de 2016 en los siguientes deportes `Athletics`, `Swimming`, `Rowing`, `Football`, `Hockey`."
   ]
  },
  {
   "cell_type": "code",
   "execution_count": 14,
   "metadata": {},
   "outputs": [
    {
     "data": {
      "text/html": [
       "<div>\n",
       "<style scoped>\n",
       "    .dataframe tbody tr th:only-of-type {\n",
       "        vertical-align: middle;\n",
       "    }\n",
       "\n",
       "    .dataframe tbody tr th {\n",
       "        vertical-align: top;\n",
       "    }\n",
       "\n",
       "    .dataframe thead th {\n",
       "        text-align: right;\n",
       "    }\n",
       "</style>\n",
       "<table border=\"1\" class=\"dataframe\">\n",
       "  <thead>\n",
       "    <tr style=\"text-align: right;\">\n",
       "      <th></th>\n",
       "      <th>ID</th>\n",
       "      <th>Name</th>\n",
       "      <th>Sex</th>\n",
       "      <th>Age</th>\n",
       "      <th>Height</th>\n",
       "      <th>Weight</th>\n",
       "      <th>Team</th>\n",
       "      <th>NOC</th>\n",
       "      <th>Games</th>\n",
       "      <th>Year</th>\n",
       "      <th>Season</th>\n",
       "      <th>City</th>\n",
       "      <th>Sport</th>\n",
       "      <th>Event</th>\n",
       "      <th>Medal</th>\n",
       "    </tr>\n",
       "  </thead>\n",
       "  <tbody>\n",
       "    <tr>\n",
       "      <th>158</th>\n",
       "      <td>62</td>\n",
       "      <td>Giovanni Abagnale</td>\n",
       "      <td>M</td>\n",
       "      <td>21.0</td>\n",
       "      <td>198.0</td>\n",
       "      <td>90.0</td>\n",
       "      <td>Italy</td>\n",
       "      <td>ITA</td>\n",
       "      <td>2016 Summer</td>\n",
       "      <td>2016</td>\n",
       "      <td>Summer</td>\n",
       "      <td>Rio de Janeiro</td>\n",
       "      <td>Rowing</td>\n",
       "      <td>Rowing Men's Coxless Pairs</td>\n",
       "      <td>Bronze</td>\n",
       "    </tr>\n",
       "    <tr>\n",
       "      <th>814</th>\n",
       "      <td>465</td>\n",
       "      <td>Matthew \"Matt\" Abood</td>\n",
       "      <td>M</td>\n",
       "      <td>30.0</td>\n",
       "      <td>197.0</td>\n",
       "      <td>92.0</td>\n",
       "      <td>Australia</td>\n",
       "      <td>AUS</td>\n",
       "      <td>2016 Summer</td>\n",
       "      <td>2016</td>\n",
       "      <td>Summer</td>\n",
       "      <td>Rio de Janeiro</td>\n",
       "      <td>Swimming</td>\n",
       "      <td>Swimming Men's 4 x 100 metres Freestyle Relay</td>\n",
       "      <td>Bronze</td>\n",
       "    </tr>\n",
       "    <tr>\n",
       "      <th>1228</th>\n",
       "      <td>690</td>\n",
       "      <td>Chantal Achterberg</td>\n",
       "      <td>F</td>\n",
       "      <td>31.0</td>\n",
       "      <td>172.0</td>\n",
       "      <td>72.0</td>\n",
       "      <td>Netherlands</td>\n",
       "      <td>NED</td>\n",
       "      <td>2016 Summer</td>\n",
       "      <td>2016</td>\n",
       "      <td>Summer</td>\n",
       "      <td>Rio de Janeiro</td>\n",
       "      <td>Rowing</td>\n",
       "      <td>Rowing Women's Quadruple Sculls</td>\n",
       "      <td>Silver</td>\n",
       "    </tr>\n",
       "    <tr>\n",
       "      <th>1529</th>\n",
       "      <td>846</td>\n",
       "      <td>Valerie Kasanita Adams-Vili (-Price)</td>\n",
       "      <td>F</td>\n",
       "      <td>31.0</td>\n",
       "      <td>193.0</td>\n",
       "      <td>120.0</td>\n",
       "      <td>New Zealand</td>\n",
       "      <td>NZL</td>\n",
       "      <td>2016 Summer</td>\n",
       "      <td>2016</td>\n",
       "      <td>Summer</td>\n",
       "      <td>Rio de Janeiro</td>\n",
       "      <td>Athletics</td>\n",
       "      <td>Athletics Women's Shot Put</td>\n",
       "      <td>Silver</td>\n",
       "    </tr>\n",
       "    <tr>\n",
       "      <th>1847</th>\n",
       "      <td>1017</td>\n",
       "      <td>Nathan Ghar-Jun Adrian</td>\n",
       "      <td>M</td>\n",
       "      <td>27.0</td>\n",
       "      <td>198.0</td>\n",
       "      <td>100.0</td>\n",
       "      <td>United States</td>\n",
       "      <td>USA</td>\n",
       "      <td>2016 Summer</td>\n",
       "      <td>2016</td>\n",
       "      <td>Summer</td>\n",
       "      <td>Rio de Janeiro</td>\n",
       "      <td>Swimming</td>\n",
       "      <td>Swimming Men's 50 metres Freestyle</td>\n",
       "      <td>Bronze</td>\n",
       "    </tr>\n",
       "  </tbody>\n",
       "</table>\n",
       "</div>"
      ],
      "text/plain": [
       "        ID                                  Name Sex   Age  Height  Weight  \\\n",
       "158     62                     Giovanni Abagnale   M  21.0   198.0    90.0   \n",
       "814    465                  Matthew \"Matt\" Abood   M  30.0   197.0    92.0   \n",
       "1228   690                    Chantal Achterberg   F  31.0   172.0    72.0   \n",
       "1529   846  Valerie Kasanita Adams-Vili (-Price)   F  31.0   193.0   120.0   \n",
       "1847  1017                Nathan Ghar-Jun Adrian   M  27.0   198.0   100.0   \n",
       "\n",
       "               Team  NOC        Games  Year  Season            City  \\\n",
       "158           Italy  ITA  2016 Summer  2016  Summer  Rio de Janeiro   \n",
       "814       Australia  AUS  2016 Summer  2016  Summer  Rio de Janeiro   \n",
       "1228    Netherlands  NED  2016 Summer  2016  Summer  Rio de Janeiro   \n",
       "1529    New Zealand  NZL  2016 Summer  2016  Summer  Rio de Janeiro   \n",
       "1847  United States  USA  2016 Summer  2016  Summer  Rio de Janeiro   \n",
       "\n",
       "          Sport                                          Event   Medal  \n",
       "158      Rowing                     Rowing Men's Coxless Pairs  Bronze  \n",
       "814    Swimming  Swimming Men's 4 x 100 metres Freestyle Relay  Bronze  \n",
       "1228     Rowing                Rowing Women's Quadruple Sculls  Silver  \n",
       "1529  Athletics                     Athletics Women's Shot Put  Silver  \n",
       "1847   Swimming             Swimming Men's 50 metres Freestyle  Bronze  "
      ]
     },
     "execution_count": 14,
     "metadata": {},
     "output_type": "execute_result"
    }
   ],
   "source": [
    "deportes = [\"Athletics\", \"Swimming\", \"Rowing\", \"Football\", \"Hockey\"]\n",
    "dep_2016 = df_olimpicos[(df_olimpicos['Year'] == 2016) & (df_olimpicos['Medal'].notna()) & \n",
    "                        (df_olimpicos['Sport'].isin(deportes))]\n",
    "dep_2016.head()"
   ]
  },
  {
   "cell_type": "markdown",
   "metadata": {},
   "source": [
    "Ahora, observando el conjunto de datos notamos una gran variedad de variables categóricas y numéricas. Para identificar algunos estadísticos de cada una de ellas es adecuado utilizar el método `.describe()`."
   ]
  },
  {
   "cell_type": "code",
   "execution_count": 15,
   "metadata": {},
   "outputs": [
    {
     "data": {
      "text/html": [
       "<div>\n",
       "<style scoped>\n",
       "    .dataframe tbody tr th:only-of-type {\n",
       "        vertical-align: middle;\n",
       "    }\n",
       "\n",
       "    .dataframe tbody tr th {\n",
       "        vertical-align: top;\n",
       "    }\n",
       "\n",
       "    .dataframe thead th {\n",
       "        text-align: right;\n",
       "    }\n",
       "</style>\n",
       "<table border=\"1\" class=\"dataframe\">\n",
       "  <thead>\n",
       "    <tr style=\"text-align: right;\">\n",
       "      <th></th>\n",
       "      <th>Name</th>\n",
       "      <th>Sex</th>\n",
       "      <th>Team</th>\n",
       "      <th>NOC</th>\n",
       "      <th>Games</th>\n",
       "      <th>Season</th>\n",
       "      <th>City</th>\n",
       "      <th>Sport</th>\n",
       "      <th>Event</th>\n",
       "      <th>Medal</th>\n",
       "    </tr>\n",
       "  </thead>\n",
       "  <tbody>\n",
       "    <tr>\n",
       "      <th>count</th>\n",
       "      <td>732</td>\n",
       "      <td>732</td>\n",
       "      <td>732</td>\n",
       "      <td>732</td>\n",
       "      <td>732</td>\n",
       "      <td>732</td>\n",
       "      <td>732</td>\n",
       "      <td>732</td>\n",
       "      <td>732</td>\n",
       "      <td>732</td>\n",
       "    </tr>\n",
       "    <tr>\n",
       "      <th>unique</th>\n",
       "      <td>648</td>\n",
       "      <td>2</td>\n",
       "      <td>54</td>\n",
       "      <td>54</td>\n",
       "      <td>1</td>\n",
       "      <td>1</td>\n",
       "      <td>1</td>\n",
       "      <td>5</td>\n",
       "      <td>99</td>\n",
       "      <td>3</td>\n",
       "    </tr>\n",
       "    <tr>\n",
       "      <th>top</th>\n",
       "      <td>Michael Fred Phelps, II</td>\n",
       "      <td>M</td>\n",
       "      <td>United States</td>\n",
       "      <td>USA</td>\n",
       "      <td>2016 Summer</td>\n",
       "      <td>Summer</td>\n",
       "      <td>Rio de Janeiro</td>\n",
       "      <td>Athletics</td>\n",
       "      <td>Football Women's Football</td>\n",
       "      <td>Gold</td>\n",
       "    </tr>\n",
       "    <tr>\n",
       "      <th>freq</th>\n",
       "      <td>6</td>\n",
       "      <td>377</td>\n",
       "      <td>127</td>\n",
       "      <td>127</td>\n",
       "      <td>732</td>\n",
       "      <td>732</td>\n",
       "      <td>732</td>\n",
       "      <td>192</td>\n",
       "      <td>54</td>\n",
       "      <td>254</td>\n",
       "    </tr>\n",
       "  </tbody>\n",
       "</table>\n",
       "</div>"
      ],
      "text/plain": [
       "                           Name  Sex           Team  NOC        Games  Season  \\\n",
       "count                       732  732            732  732          732     732   \n",
       "unique                      648    2             54   54            1       1   \n",
       "top     Michael Fred Phelps, II    M  United States  USA  2016 Summer  Summer   \n",
       "freq                          6  377            127  127          732     732   \n",
       "\n",
       "                  City      Sport                      Event Medal  \n",
       "count              732        732                        732   732  \n",
       "unique               1          5                         99     3  \n",
       "top     Rio de Janeiro  Athletics  Football Women's Football  Gold  \n",
       "freq               732        192                         54   254  "
      ]
     },
     "execution_count": 15,
     "metadata": {},
     "output_type": "execute_result"
    }
   ],
   "source": [
    "dep_2016.describe(include=object)"
   ]
  },
  {
   "cell_type": "code",
   "execution_count": 16,
   "metadata": {},
   "outputs": [
    {
     "data": {
      "text/html": [
       "<div>\n",
       "<style scoped>\n",
       "    .dataframe tbody tr th:only-of-type {\n",
       "        vertical-align: middle;\n",
       "    }\n",
       "\n",
       "    .dataframe tbody tr th {\n",
       "        vertical-align: top;\n",
       "    }\n",
       "\n",
       "    .dataframe thead th {\n",
       "        text-align: right;\n",
       "    }\n",
       "</style>\n",
       "<table border=\"1\" class=\"dataframe\">\n",
       "  <thead>\n",
       "    <tr style=\"text-align: right;\">\n",
       "      <th></th>\n",
       "      <th>ID</th>\n",
       "      <th>Age</th>\n",
       "      <th>Height</th>\n",
       "      <th>Weight</th>\n",
       "      <th>Year</th>\n",
       "    </tr>\n",
       "  </thead>\n",
       "  <tbody>\n",
       "    <tr>\n",
       "      <th>count</th>\n",
       "      <td>732.000000</td>\n",
       "      <td>732.000000</td>\n",
       "      <td>729.000000</td>\n",
       "      <td>727.000000</td>\n",
       "      <td>732.0</td>\n",
       "    </tr>\n",
       "    <tr>\n",
       "      <th>mean</th>\n",
       "      <td>68648.244536</td>\n",
       "      <td>25.577869</td>\n",
       "      <td>180.023320</td>\n",
       "      <td>73.720770</td>\n",
       "      <td>2016.0</td>\n",
       "    </tr>\n",
       "    <tr>\n",
       "      <th>std</th>\n",
       "      <td>39361.251654</td>\n",
       "      <td>4.451373</td>\n",
       "      <td>10.076398</td>\n",
       "      <td>14.279014</td>\n",
       "      <td>0.0</td>\n",
       "    </tr>\n",
       "    <tr>\n",
       "      <th>min</th>\n",
       "      <td>62.000000</td>\n",
       "      <td>16.000000</td>\n",
       "      <td>150.000000</td>\n",
       "      <td>40.000000</td>\n",
       "      <td>2016.0</td>\n",
       "    </tr>\n",
       "    <tr>\n",
       "      <th>25%</th>\n",
       "      <td>32676.750000</td>\n",
       "      <td>22.000000</td>\n",
       "      <td>173.000000</td>\n",
       "      <td>64.000000</td>\n",
       "      <td>2016.0</td>\n",
       "    </tr>\n",
       "    <tr>\n",
       "      <th>50%</th>\n",
       "      <td>73187.000000</td>\n",
       "      <td>25.000000</td>\n",
       "      <td>180.000000</td>\n",
       "      <td>72.000000</td>\n",
       "      <td>2016.0</td>\n",
       "    </tr>\n",
       "    <tr>\n",
       "      <th>75%</th>\n",
       "      <td>103225.000000</td>\n",
       "      <td>29.000000</td>\n",
       "      <td>187.000000</td>\n",
       "      <td>82.000000</td>\n",
       "      <td>2016.0</td>\n",
       "    </tr>\n",
       "    <tr>\n",
       "      <th>max</th>\n",
       "      <td>135525.000000</td>\n",
       "      <td>40.000000</td>\n",
       "      <td>207.000000</td>\n",
       "      <td>136.000000</td>\n",
       "      <td>2016.0</td>\n",
       "    </tr>\n",
       "  </tbody>\n",
       "</table>\n",
       "</div>"
      ],
      "text/plain": [
       "                  ID         Age      Height      Weight    Year\n",
       "count     732.000000  732.000000  729.000000  727.000000   732.0\n",
       "mean    68648.244536   25.577869  180.023320   73.720770  2016.0\n",
       "std     39361.251654    4.451373   10.076398   14.279014     0.0\n",
       "min        62.000000   16.000000  150.000000   40.000000  2016.0\n",
       "25%     32676.750000   22.000000  173.000000   64.000000  2016.0\n",
       "50%     73187.000000   25.000000  180.000000   72.000000  2016.0\n",
       "75%    103225.000000   29.000000  187.000000   82.000000  2016.0\n",
       "max    135525.000000   40.000000  207.000000  136.000000  2016.0"
      ]
     },
     "execution_count": 16,
     "metadata": {},
     "output_type": "execute_result"
    }
   ],
   "source": [
    "dep_2016.describe()"
   ]
  },
  {
   "cell_type": "markdown",
   "metadata": {},
   "source": [
    "Luego de haber utilizado `.describe` para ver la información más relevante del conjunto de datos, es posible afirmar que existen 5 variables numéricas y 10 variables categóricas. Entre las variables númericas encontramos la edad (`Age`), la altura (`Height`) y el peso (`Weight`) de cada atleta y el año , que en este caso es `2016`. También es posible ver el `ID`, esta última variable es diferente para cada atleta por lo tanto las estadísticas no van a representar una información útil. \n",
    "Ahora, en cuanto a las variables categóricas encontramos `Name`, `Sex`, `Team`, `NOC`, `Games`, `Season`, `City`, `Sport`, `Event` y `Medal`."
   ]
  },
  {
   "cell_type": "markdown",
   "metadata": {},
   "source": [
    "Al evaluar cuál es la visualización adecuada para que un patrón global represente las características de `Height` y `Weight`, encontramos el diagrama de dispersión, el cual es muy útil cuando se quiere ver que tanto se relaciona linealmente una variable con otra. En este caso tomamos el peso (`Weight`) como la variable independiente y la altura ( `Height`) como la variable dependiente. Es decir, veremos que tanto influye el peso en la altura de cada participante. Es posible tomar las variables en diferente orden, siendo la altura la variable independiente y el peso la variable dependiente. "
   ]
  },
  {
   "cell_type": "code",
   "execution_count": 17,
   "metadata": {},
   "outputs": [
    {
     "data": {
      "image/png": "[encoded data removed]",
      "text/plain": [
       "<Figure size 640x480 with 1 Axes>"
      ]
     },
     "metadata": {},
     "output_type": "display_data"
    }
   ],
   "source": [
    "ax = sns.scatterplot(x=\"Weight\", y=\"Height\", data=dep_2016, color = '#FF69B4')\n",
    "ax.set_xlabel('Peso ')  \n",
    "ax.set_ylabel('Altura ')\n",
    "ax.figure.suptitle('Diagrama de dispersión entre el peso y la altura de los participantes.')\n",
    "plt.show()"
   ]
  },
  {
   "cell_type": "markdown",
   "metadata": {},
   "source": [
    "Luego de haber graficado el diagrama de dispersión, es posible notar una relación directa y ligeramente fuerte entre ambas variables. Vemos que cada punto representado en el diagrama forman una linea que se dispersa hacia arriba, lo que permite indicar que a medida que el peso va aumentando, la altura tambien aumentará. También es posible notar que algunos datos no se encuentran tan cercanos a otros, los cuales podríamos considerar como atipícos, sin embargo, para darle validez a esa información se deben aplicar otro tipo de estadísticas. \n"
   ]
  },
  {
   "cell_type": "markdown",
   "metadata": {},
   "source": [
    "## **Inciso 2**\n",
    "**Crear un gráfico utilizando una técnica de visualización adecuada que presente de la mejor manera posible la estadística de resumen para la altura y el peso de los jugadores que ganaron cada tipo de medalla (oro/plata/bronce) en los datos.**"
   ]
  },
  {
   "cell_type": "markdown",
   "metadata": {},
   "source": [
    "Para resolver el inciso 2 , se realizarán dos diagramas de cajas y bigotes. Donde en cada uno se evaluará como influye el peso y la altura dependiendo de los diferentes tipos de medallas obtenidas por cada atleta en el año 2016. "
   ]
  },
  {
   "cell_type": "markdown",
   "metadata": {},
   "source": [
    "Primero, se realizó el conteo de las medallas para cada tipo (Oro, plata y bronce)"
   ]
  },
  {
   "cell_type": "code",
   "execution_count": 18,
   "metadata": {},
   "outputs": [
    {
     "data": {
      "text/html": [
       "<div>\n",
       "<style scoped>\n",
       "    .dataframe tbody tr th:only-of-type {\n",
       "        vertical-align: middle;\n",
       "    }\n",
       "\n",
       "    .dataframe tbody tr th {\n",
       "        vertical-align: top;\n",
       "    }\n",
       "\n",
       "    .dataframe thead th {\n",
       "        text-align: right;\n",
       "    }\n",
       "</style>\n",
       "<table border=\"1\" class=\"dataframe\">\n",
       "  <thead>\n",
       "    <tr style=\"text-align: right;\">\n",
       "      <th></th>\n",
       "      <th>Medal</th>\n",
       "      <th>Count</th>\n",
       "    </tr>\n",
       "  </thead>\n",
       "  <tbody>\n",
       "    <tr>\n",
       "      <th>1</th>\n",
       "      <td>Gold</td>\n",
       "      <td>254</td>\n",
       "    </tr>\n",
       "    <tr>\n",
       "      <th>2</th>\n",
       "      <td>Silver</td>\n",
       "      <td>242</td>\n",
       "    </tr>\n",
       "    <tr>\n",
       "      <th>0</th>\n",
       "      <td>Bronze</td>\n",
       "      <td>236</td>\n",
       "    </tr>\n",
       "  </tbody>\n",
       "</table>\n",
       "</div>"
      ],
      "text/plain": [
       "    Medal  Count\n",
       "1    Gold    254\n",
       "2  Silver    242\n",
       "0  Bronze    236"
      ]
     },
     "execution_count": 18,
     "metadata": {},
     "output_type": "execute_result"
    }
   ],
   "source": [
    "dep_medallas = (dep_2016.groupby(['Medal'])\n",
    "                .size()  \n",
    "                .reset_index(name ='Count').sort_values(by ='Count', ascending = False))  \n",
    "dep_medallas"
   ]
  },
  {
   "cell_type": "code",
   "execution_count": 19,
   "metadata": {},
   "outputs": [
    {
     "data": {
      "image/png": "[encoded data removed]",
      "text/plain": [
       "<Figure size 640x480 with 1 Axes>"
      ]
     },
     "metadata": {},
     "output_type": "display_data"
    }
   ],
   "source": [
    "palet = [ '#F5DEB3', '#B3B3B3' , '#BDB76B']\n",
    "sns.boxplot(x = 'Medal', y = 'Weight', data = dep_2016, palette = palet )\n",
    "plt.title('Distribución del Peso por Medalla')\n",
    "plt.xlabel('Medalla')\n",
    "plt.ylabel('Peso')\n",
    "plt.show()"
   ]
  },
  {
   "cell_type": "markdown",
   "metadata": {},
   "source": [
    "El gráfico muestra la distribución del peso de los atletas según la medalla ganada (Bronce, Plata, Oro). La mediana del peso es ligeramente mayor para los ganadores de Oro y Plata en comparación con los de Bronce, pero todos tienen una distribución similar. Los bigotes indican el rango de los datos, excluyendo los valores atípicos, que son más altos en todos los grupos, reflejando algunos atletas con pesos significativamente diferentes del promedio.\n",
    "\n"
   ]
  },
  {
   "cell_type": "code",
   "execution_count": 20,
   "metadata": {},
   "outputs": [
    {
     "data": {
      "image/png": "[encoded data removed]",
      "text/plain": [
       "<Figure size 640x480 with 1 Axes>"
      ]
     },
     "metadata": {},
     "output_type": "display_data"
    }
   ],
   "source": [
    "sns.boxplot(x = 'Medal', y = 'Height', data = dep_2016, palette = palet)\n",
    "plt.title('Distribución de la Altura por Medalla')\n",
    "plt.xlabel('Medalla')\n",
    "plt.ylabel('Altura')\n",
    "plt.show()"
   ]
  },
  {
   "cell_type": "markdown",
   "metadata": {},
   "source": [
    "El gráfico muestra la distribución de la altura de los atletas según la medalla obtenida (Bronce, Plata, Oro). La mediana de la altura es similar en las tres categorías, con una ligera tendencia a ser mayor en los ganadores de Oro. Los bigotes indican que el rango de alturas es amplio en todos los grupos, desde aproximadamente 150 cm hasta 200 cm o más. Se observa un valor atípico en la categoría de Bronce, lo que indica un atleta significativamente más bajo que los demás. En general, las alturas de los atletas están distribuidas de manera similar entre los diferentes tipos de medallas."
   ]
  }
 ],
 "metadata": {
  "kernelspec": {
   "display_name": "data_viz",
   "language": "python",
   "name": "python3"
  },
  "language_info": {
   "codemirror_mode": {
    "name": "ipython",
    "version": 3
   },
   "file_extension": ".py",
   "mimetype": "text/x-python",
   "name": "python",
   "nbconvert_exporter": "python",
   "pygments_lexer": "ipython3",
   "version": "3.9.19"
  }
 },
 "nbformat": 4,
 "nbformat_minor": 2
}
